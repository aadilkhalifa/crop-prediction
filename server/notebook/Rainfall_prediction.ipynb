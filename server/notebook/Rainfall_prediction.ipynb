{
  "nbformat": 4,
  "nbformat_minor": 0,
  "metadata": {
    "colab": {
      "name": "Rainfall-prediction.ipynb",
      "provenance": [],
      "collapsed_sections": []
    },
    "kernelspec": {
      "name": "python3",
      "display_name": "Python 3"
    },
    "language_info": {
      "name": "python"
    },
    "accelerator": "GPU"
  },
  "cells": [
    {
      "cell_type": "code",
      "metadata": {
        "id": "OMurNoJI9i_z"
      },
      "source": [
        "import matplotlib.pyplot as plt\n",
        "import seaborn as sns\n",
        "import numpy as np \n",
        "import pandas as pd \n",
        "from sklearn.preprocessing import LabelEncoder\n",
        "from sklearn.preprocessing import OneHotEncoder\n",
        "\n",
        "from numpy import array\n",
        "from numpy import argmax\n",
        "\n",
        "import json"
      ],
      "execution_count": null,
      "outputs": []
    },
    {
      "cell_type": "code",
      "metadata": {
        "id": "fqte73FSAXP2"
      },
      "source": [
        "import numpy as np # linear algebra\n",
        "import pandas as pd # data processing, CSV file I/O (e.g. pd.read_csv)\n",
        "import matplotlib.pyplot as plt\n",
        "\n",
        "from matplotlib import rcParams\n",
        "rcParams['figure.figsize']=10,6\n",
        "from keras.layers.core import Dense, Activation, Dropout\n",
        "from keras.layers.recurrent import LSTM\n",
        "from keras.models import Sequential\n",
        "import time\n",
        "from sklearn.metrics import mean_squared_error\n",
        "from matplotlib import pyplot\n",
        "from sklearn.preprocessing import MinMaxScaler\n",
        "from sklearn.preprocessing import StandardScaler\n",
        "\n",
        "from sklearn.metrics import classification_report\n",
        "from sklearn import metrics"
      ],
      "execution_count": null,
      "outputs": []
    },
    {
      "cell_type": "code",
      "metadata": {
        "id": "v260WwJ_9xVc"
      },
      "source": [
        "df=pd.read_csv(\"./data.csv\")"
      ],
      "execution_count": null,
      "outputs": []
    },
    {
      "cell_type": "code",
      "metadata": {
        "id": "G_BnE1k-965i",
        "colab": {
          "base_uri": "https://localhost:8080/",
          "height": 382
        },
        "outputId": "ac53d71b-e7ac-4ea4-8e0e-a96a6f71a07f"
      },
      "source": [
        "df.head()"
      ],
      "execution_count": null,
      "outputs": [
        {
          "output_type": "execute_result",
          "data": {
            "text/html": [
              "<div>\n",
              "<style scoped>\n",
              "    .dataframe tbody tr th:only-of-type {\n",
              "        vertical-align: middle;\n",
              "    }\n",
              "\n",
              "    .dataframe tbody tr th {\n",
              "        vertical-align: top;\n",
              "    }\n",
              "\n",
              "    .dataframe thead th {\n",
              "        text-align: right;\n",
              "    }\n",
              "</style>\n",
              "<table border=\"1\" class=\"dataframe\">\n",
              "  <thead>\n",
              "    <tr style=\"text-align: right;\">\n",
              "      <th></th>\n",
              "      <th>STATE_UT_NAME</th>\n",
              "      <th>DISTRICT</th>\n",
              "      <th>JAN</th>\n",
              "      <th>FEB</th>\n",
              "      <th>MAR</th>\n",
              "      <th>APR</th>\n",
              "      <th>MAY</th>\n",
              "      <th>JUN</th>\n",
              "      <th>JUL</th>\n",
              "      <th>AUG</th>\n",
              "      <th>SEP</th>\n",
              "      <th>OCT</th>\n",
              "      <th>NOV</th>\n",
              "      <th>DEC</th>\n",
              "      <th>ANNUAL</th>\n",
              "      <th>Jan-Feb</th>\n",
              "      <th>Mar-May</th>\n",
              "      <th>Jun-Sep</th>\n",
              "      <th>Oct-Dec</th>\n",
              "    </tr>\n",
              "  </thead>\n",
              "  <tbody>\n",
              "    <tr>\n",
              "      <th>0</th>\n",
              "      <td>ANDAMAN And NICOBAR ISLANDS</td>\n",
              "      <td>NICOBAR</td>\n",
              "      <td>107.3</td>\n",
              "      <td>57.9</td>\n",
              "      <td>65.2</td>\n",
              "      <td>117.0</td>\n",
              "      <td>358.5</td>\n",
              "      <td>295.5</td>\n",
              "      <td>285.0</td>\n",
              "      <td>271.9</td>\n",
              "      <td>354.8</td>\n",
              "      <td>326.0</td>\n",
              "      <td>315.2</td>\n",
              "      <td>250.9</td>\n",
              "      <td>2805.2</td>\n",
              "      <td>165.2</td>\n",
              "      <td>540.7</td>\n",
              "      <td>1207.2</td>\n",
              "      <td>892.1</td>\n",
              "    </tr>\n",
              "    <tr>\n",
              "      <th>1</th>\n",
              "      <td>ANDAMAN And NICOBAR ISLANDS</td>\n",
              "      <td>SOUTH ANDAMAN</td>\n",
              "      <td>43.7</td>\n",
              "      <td>26.0</td>\n",
              "      <td>18.6</td>\n",
              "      <td>90.5</td>\n",
              "      <td>374.4</td>\n",
              "      <td>457.2</td>\n",
              "      <td>421.3</td>\n",
              "      <td>423.1</td>\n",
              "      <td>455.6</td>\n",
              "      <td>301.2</td>\n",
              "      <td>275.8</td>\n",
              "      <td>128.3</td>\n",
              "      <td>3015.7</td>\n",
              "      <td>69.7</td>\n",
              "      <td>483.5</td>\n",
              "      <td>1757.2</td>\n",
              "      <td>705.3</td>\n",
              "    </tr>\n",
              "    <tr>\n",
              "      <th>2</th>\n",
              "      <td>ANDAMAN And NICOBAR ISLANDS</td>\n",
              "      <td>N &amp; M ANDAMAN</td>\n",
              "      <td>32.7</td>\n",
              "      <td>15.9</td>\n",
              "      <td>8.6</td>\n",
              "      <td>53.4</td>\n",
              "      <td>343.6</td>\n",
              "      <td>503.3</td>\n",
              "      <td>465.4</td>\n",
              "      <td>460.9</td>\n",
              "      <td>454.8</td>\n",
              "      <td>276.1</td>\n",
              "      <td>198.6</td>\n",
              "      <td>100.0</td>\n",
              "      <td>2913.3</td>\n",
              "      <td>48.6</td>\n",
              "      <td>405.6</td>\n",
              "      <td>1884.4</td>\n",
              "      <td>574.7</td>\n",
              "    </tr>\n",
              "    <tr>\n",
              "      <th>3</th>\n",
              "      <td>ARUNACHAL PRADESH</td>\n",
              "      <td>LOHIT</td>\n",
              "      <td>42.2</td>\n",
              "      <td>80.8</td>\n",
              "      <td>176.4</td>\n",
              "      <td>358.5</td>\n",
              "      <td>306.4</td>\n",
              "      <td>447.0</td>\n",
              "      <td>660.1</td>\n",
              "      <td>427.8</td>\n",
              "      <td>313.6</td>\n",
              "      <td>167.1</td>\n",
              "      <td>34.1</td>\n",
              "      <td>29.8</td>\n",
              "      <td>3043.8</td>\n",
              "      <td>123.0</td>\n",
              "      <td>841.3</td>\n",
              "      <td>1848.5</td>\n",
              "      <td>231.0</td>\n",
              "    </tr>\n",
              "    <tr>\n",
              "      <th>4</th>\n",
              "      <td>ARUNACHAL PRADESH</td>\n",
              "      <td>EAST SIANG</td>\n",
              "      <td>33.3</td>\n",
              "      <td>79.5</td>\n",
              "      <td>105.9</td>\n",
              "      <td>216.5</td>\n",
              "      <td>323.0</td>\n",
              "      <td>738.3</td>\n",
              "      <td>990.9</td>\n",
              "      <td>711.2</td>\n",
              "      <td>568.0</td>\n",
              "      <td>206.9</td>\n",
              "      <td>29.5</td>\n",
              "      <td>31.7</td>\n",
              "      <td>4034.7</td>\n",
              "      <td>112.8</td>\n",
              "      <td>645.4</td>\n",
              "      <td>3008.4</td>\n",
              "      <td>268.1</td>\n",
              "    </tr>\n",
              "  </tbody>\n",
              "</table>\n",
              "</div>"
            ],
            "text/plain": [
              "                 STATE_UT_NAME       DISTRICT    JAN  ...  Mar-May  Jun-Sep  Oct-Dec\n",
              "0  ANDAMAN And NICOBAR ISLANDS        NICOBAR  107.3  ...    540.7   1207.2    892.1\n",
              "1  ANDAMAN And NICOBAR ISLANDS  SOUTH ANDAMAN   43.7  ...    483.5   1757.2    705.3\n",
              "2  ANDAMAN And NICOBAR ISLANDS  N & M ANDAMAN   32.7  ...    405.6   1884.4    574.7\n",
              "3            ARUNACHAL PRADESH          LOHIT   42.2  ...    841.3   1848.5    231.0\n",
              "4            ARUNACHAL PRADESH     EAST SIANG   33.3  ...    645.4   3008.4    268.1\n",
              "\n",
              "[5 rows x 19 columns]"
            ]
          },
          "metadata": {},
          "execution_count": 8
        }
      ]
    },
    {
      "cell_type": "code",
      "metadata": {
        "id": "QDvEhzmE-Dh1"
      },
      "source": [
        "districts=df['DISTRICT'].tolist()"
      ],
      "execution_count": null,
      "outputs": []
    },
    {
      "cell_type": "code",
      "metadata": {
        "id": "6ZyQMVViYSn-"
      },
      "source": [
        "states=df['STATE_UT_NAME'].tolist()"
      ],
      "execution_count": null,
      "outputs": []
    },
    {
      "cell_type": "code",
      "metadata": {
        "id": "8Rmkn96owgm1"
      },
      "source": [
        ""
      ],
      "execution_count": null,
      "outputs": []
    },
    {
      "cell_type": "code",
      "metadata": {
        "id": "ATy1GGGf-sEG",
        "colab": {
          "base_uri": "https://localhost:8080/"
        },
        "outputId": "2140df07-58ab-4d15-8b91-4544e276ed87"
      },
      "source": [
        "len(districts)"
      ],
      "execution_count": null,
      "outputs": [
        {
          "output_type": "execute_result",
          "data": {
            "text/plain": [
              "641"
            ]
          },
          "metadata": {},
          "execution_count": 11
        }
      ]
    },
    {
      "cell_type": "code",
      "metadata": {
        "id": "q36YNNK7-0Wb"
      },
      "source": [
        "values1 = array(states)"
      ],
      "execution_count": null,
      "outputs": []
    },
    {
      "cell_type": "code",
      "metadata": {
        "id": "TTYhtkWEYXee"
      },
      "source": [
        "values2 = array(districts)"
      ],
      "execution_count": null,
      "outputs": []
    },
    {
      "cell_type": "code",
      "metadata": {
        "id": "vRXGay2l-8pP"
      },
      "source": [
        "label_encoder = LabelEncoder()\n",
        "integer_encoded1 = label_encoder.fit_transform(values1)\n",
        "# print(integer_encoded)\n",
        "\n",
        "label_encoder = LabelEncoder()\n",
        "integer_encoded2 = label_encoder.fit_transform(values2)\n",
        "# print(integer_encoded)"
      ],
      "execution_count": null,
      "outputs": []
    },
    {
      "cell_type": "code",
      "metadata": {
        "id": "CfaaKxEF_Fc4"
      },
      "source": [
        ""
      ],
      "execution_count": null,
      "outputs": []
    },
    {
      "cell_type": "code",
      "metadata": {
        "id": "2C3opoHl_Ijl"
      },
      "source": [
        "dict1={}\n",
        "for i in range(len(integer_encoded1)):\n",
        "  dict1[values1[i]]=integer_encoded1[i]\n",
        "\n",
        "dict2={}\n",
        "for i in range(len(integer_encoded2)):\n",
        "  dict2[values2[i]]=integer_encoded2[i]\n"
      ],
      "execution_count": null,
      "outputs": []
    },
    {
      "cell_type": "code",
      "metadata": {
        "id": "YyioAiHC_xD6"
      },
      "source": [
        "# with open('districts.json', 'w') as fp:\n",
        "#     json.dump(dict, fp)"
      ],
      "execution_count": null,
      "outputs": []
    },
    {
      "cell_type": "code",
      "metadata": {
        "id": "Mdg33S0pAgTL"
      },
      "source": [
        ""
      ],
      "execution_count": null,
      "outputs": []
    },
    {
      "cell_type": "code",
      "metadata": {
        "id": "mcsEmtScY7c_",
        "colab": {
          "base_uri": "https://localhost:8080/",
          "height": 382
        },
        "outputId": "e2e8506a-138b-446d-f6cb-24316898b9bf"
      },
      "source": [
        "df.head()"
      ],
      "execution_count": null,
      "outputs": [
        {
          "output_type": "execute_result",
          "data": {
            "text/html": [
              "<div>\n",
              "<style scoped>\n",
              "    .dataframe tbody tr th:only-of-type {\n",
              "        vertical-align: middle;\n",
              "    }\n",
              "\n",
              "    .dataframe tbody tr th {\n",
              "        vertical-align: top;\n",
              "    }\n",
              "\n",
              "    .dataframe thead th {\n",
              "        text-align: right;\n",
              "    }\n",
              "</style>\n",
              "<table border=\"1\" class=\"dataframe\">\n",
              "  <thead>\n",
              "    <tr style=\"text-align: right;\">\n",
              "      <th></th>\n",
              "      <th>STATE_UT_NAME</th>\n",
              "      <th>DISTRICT</th>\n",
              "      <th>JAN</th>\n",
              "      <th>FEB</th>\n",
              "      <th>MAR</th>\n",
              "      <th>APR</th>\n",
              "      <th>MAY</th>\n",
              "      <th>JUN</th>\n",
              "      <th>JUL</th>\n",
              "      <th>AUG</th>\n",
              "      <th>SEP</th>\n",
              "      <th>OCT</th>\n",
              "      <th>NOV</th>\n",
              "      <th>DEC</th>\n",
              "      <th>ANNUAL</th>\n",
              "      <th>Jan-Feb</th>\n",
              "      <th>Mar-May</th>\n",
              "      <th>Jun-Sep</th>\n",
              "      <th>Oct-Dec</th>\n",
              "    </tr>\n",
              "  </thead>\n",
              "  <tbody>\n",
              "    <tr>\n",
              "      <th>0</th>\n",
              "      <td>ANDAMAN And NICOBAR ISLANDS</td>\n",
              "      <td>NICOBAR</td>\n",
              "      <td>107.3</td>\n",
              "      <td>57.9</td>\n",
              "      <td>65.2</td>\n",
              "      <td>117.0</td>\n",
              "      <td>358.5</td>\n",
              "      <td>295.5</td>\n",
              "      <td>285.0</td>\n",
              "      <td>271.9</td>\n",
              "      <td>354.8</td>\n",
              "      <td>326.0</td>\n",
              "      <td>315.2</td>\n",
              "      <td>250.9</td>\n",
              "      <td>2805.2</td>\n",
              "      <td>165.2</td>\n",
              "      <td>540.7</td>\n",
              "      <td>1207.2</td>\n",
              "      <td>892.1</td>\n",
              "    </tr>\n",
              "    <tr>\n",
              "      <th>1</th>\n",
              "      <td>ANDAMAN And NICOBAR ISLANDS</td>\n",
              "      <td>SOUTH ANDAMAN</td>\n",
              "      <td>43.7</td>\n",
              "      <td>26.0</td>\n",
              "      <td>18.6</td>\n",
              "      <td>90.5</td>\n",
              "      <td>374.4</td>\n",
              "      <td>457.2</td>\n",
              "      <td>421.3</td>\n",
              "      <td>423.1</td>\n",
              "      <td>455.6</td>\n",
              "      <td>301.2</td>\n",
              "      <td>275.8</td>\n",
              "      <td>128.3</td>\n",
              "      <td>3015.7</td>\n",
              "      <td>69.7</td>\n",
              "      <td>483.5</td>\n",
              "      <td>1757.2</td>\n",
              "      <td>705.3</td>\n",
              "    </tr>\n",
              "    <tr>\n",
              "      <th>2</th>\n",
              "      <td>ANDAMAN And NICOBAR ISLANDS</td>\n",
              "      <td>N &amp; M ANDAMAN</td>\n",
              "      <td>32.7</td>\n",
              "      <td>15.9</td>\n",
              "      <td>8.6</td>\n",
              "      <td>53.4</td>\n",
              "      <td>343.6</td>\n",
              "      <td>503.3</td>\n",
              "      <td>465.4</td>\n",
              "      <td>460.9</td>\n",
              "      <td>454.8</td>\n",
              "      <td>276.1</td>\n",
              "      <td>198.6</td>\n",
              "      <td>100.0</td>\n",
              "      <td>2913.3</td>\n",
              "      <td>48.6</td>\n",
              "      <td>405.6</td>\n",
              "      <td>1884.4</td>\n",
              "      <td>574.7</td>\n",
              "    </tr>\n",
              "    <tr>\n",
              "      <th>3</th>\n",
              "      <td>ARUNACHAL PRADESH</td>\n",
              "      <td>LOHIT</td>\n",
              "      <td>42.2</td>\n",
              "      <td>80.8</td>\n",
              "      <td>176.4</td>\n",
              "      <td>358.5</td>\n",
              "      <td>306.4</td>\n",
              "      <td>447.0</td>\n",
              "      <td>660.1</td>\n",
              "      <td>427.8</td>\n",
              "      <td>313.6</td>\n",
              "      <td>167.1</td>\n",
              "      <td>34.1</td>\n",
              "      <td>29.8</td>\n",
              "      <td>3043.8</td>\n",
              "      <td>123.0</td>\n",
              "      <td>841.3</td>\n",
              "      <td>1848.5</td>\n",
              "      <td>231.0</td>\n",
              "    </tr>\n",
              "    <tr>\n",
              "      <th>4</th>\n",
              "      <td>ARUNACHAL PRADESH</td>\n",
              "      <td>EAST SIANG</td>\n",
              "      <td>33.3</td>\n",
              "      <td>79.5</td>\n",
              "      <td>105.9</td>\n",
              "      <td>216.5</td>\n",
              "      <td>323.0</td>\n",
              "      <td>738.3</td>\n",
              "      <td>990.9</td>\n",
              "      <td>711.2</td>\n",
              "      <td>568.0</td>\n",
              "      <td>206.9</td>\n",
              "      <td>29.5</td>\n",
              "      <td>31.7</td>\n",
              "      <td>4034.7</td>\n",
              "      <td>112.8</td>\n",
              "      <td>645.4</td>\n",
              "      <td>3008.4</td>\n",
              "      <td>268.1</td>\n",
              "    </tr>\n",
              "  </tbody>\n",
              "</table>\n",
              "</div>"
            ],
            "text/plain": [
              "                 STATE_UT_NAME       DISTRICT    JAN  ...  Mar-May  Jun-Sep  Oct-Dec\n",
              "0  ANDAMAN And NICOBAR ISLANDS        NICOBAR  107.3  ...    540.7   1207.2    892.1\n",
              "1  ANDAMAN And NICOBAR ISLANDS  SOUTH ANDAMAN   43.7  ...    483.5   1757.2    705.3\n",
              "2  ANDAMAN And NICOBAR ISLANDS  N & M ANDAMAN   32.7  ...    405.6   1884.4    574.7\n",
              "3            ARUNACHAL PRADESH          LOHIT   42.2  ...    841.3   1848.5    231.0\n",
              "4            ARUNACHAL PRADESH     EAST SIANG   33.3  ...    645.4   3008.4    268.1\n",
              "\n",
              "[5 rows x 19 columns]"
            ]
          },
          "metadata": {},
          "execution_count": 17
        }
      ]
    },
    {
      "cell_type": "code",
      "metadata": {
        "id": "dJ4iaHTDZgpC"
      },
      "source": [
        "df = df.drop(['ANNUAL'], axis = 1)\n",
        "df = df.drop(['Jan-Feb'], axis = 1)\n",
        "df = df.drop(['Mar-May'], axis = 1)\n",
        "df = df.drop(['Jun-Sep'], axis = 1)\n",
        "df = df.drop(['Oct-Dec'], axis = 1)"
      ],
      "execution_count": null,
      "outputs": []
    },
    {
      "cell_type": "code",
      "metadata": {
        "id": "VYBUoMepZ44u"
      },
      "source": [
        "df2 = df"
      ],
      "execution_count": null,
      "outputs": []
    },
    {
      "cell_type": "code",
      "metadata": {
        "id": "u6zPtnTRar8U"
      },
      "source": [
        "df2=df2.melt(['STATE_UT_NAME', 'DISTRICT'])"
      ],
      "execution_count": null,
      "outputs": []
    },
    {
      "cell_type": "code",
      "metadata": {
        "colab": {
          "base_uri": "https://localhost:8080/",
          "height": 423
        },
        "id": "ByPjPXincvRA",
        "outputId": "6990e778-3994-4c5c-81bb-26d410e10019"
      },
      "source": [
        "df2"
      ],
      "execution_count": null,
      "outputs": [
        {
          "output_type": "execute_result",
          "data": {
            "text/html": [
              "<div>\n",
              "<style scoped>\n",
              "    .dataframe tbody tr th:only-of-type {\n",
              "        vertical-align: middle;\n",
              "    }\n",
              "\n",
              "    .dataframe tbody tr th {\n",
              "        vertical-align: top;\n",
              "    }\n",
              "\n",
              "    .dataframe thead th {\n",
              "        text-align: right;\n",
              "    }\n",
              "</style>\n",
              "<table border=\"1\" class=\"dataframe\">\n",
              "  <thead>\n",
              "    <tr style=\"text-align: right;\">\n",
              "      <th></th>\n",
              "      <th>STATE_UT_NAME</th>\n",
              "      <th>DISTRICT</th>\n",
              "      <th>variable</th>\n",
              "      <th>value</th>\n",
              "    </tr>\n",
              "  </thead>\n",
              "  <tbody>\n",
              "    <tr>\n",
              "      <th>0</th>\n",
              "      <td>ANDAMAN And NICOBAR ISLANDS</td>\n",
              "      <td>NICOBAR</td>\n",
              "      <td>JAN</td>\n",
              "      <td>107.3</td>\n",
              "    </tr>\n",
              "    <tr>\n",
              "      <th>1</th>\n",
              "      <td>ANDAMAN And NICOBAR ISLANDS</td>\n",
              "      <td>SOUTH ANDAMAN</td>\n",
              "      <td>JAN</td>\n",
              "      <td>43.7</td>\n",
              "    </tr>\n",
              "    <tr>\n",
              "      <th>2</th>\n",
              "      <td>ANDAMAN And NICOBAR ISLANDS</td>\n",
              "      <td>N &amp; M ANDAMAN</td>\n",
              "      <td>JAN</td>\n",
              "      <td>32.7</td>\n",
              "    </tr>\n",
              "    <tr>\n",
              "      <th>3</th>\n",
              "      <td>ARUNACHAL PRADESH</td>\n",
              "      <td>LOHIT</td>\n",
              "      <td>JAN</td>\n",
              "      <td>42.2</td>\n",
              "    </tr>\n",
              "    <tr>\n",
              "      <th>4</th>\n",
              "      <td>ARUNACHAL PRADESH</td>\n",
              "      <td>EAST SIANG</td>\n",
              "      <td>JAN</td>\n",
              "      <td>33.3</td>\n",
              "    </tr>\n",
              "    <tr>\n",
              "      <th>...</th>\n",
              "      <td>...</td>\n",
              "      <td>...</td>\n",
              "      <td>...</td>\n",
              "      <td>...</td>\n",
              "    </tr>\n",
              "    <tr>\n",
              "      <th>7687</th>\n",
              "      <td>KERALA</td>\n",
              "      <td>IDUKKI</td>\n",
              "      <td>DEC</td>\n",
              "      <td>48.1</td>\n",
              "    </tr>\n",
              "    <tr>\n",
              "      <th>7688</th>\n",
              "      <td>KERALA</td>\n",
              "      <td>KASARGOD</td>\n",
              "      <td>DEC</td>\n",
              "      <td>18.4</td>\n",
              "    </tr>\n",
              "    <tr>\n",
              "      <th>7689</th>\n",
              "      <td>KERALA</td>\n",
              "      <td>PATHANAMTHITTA</td>\n",
              "      <td>DEC</td>\n",
              "      <td>51.3</td>\n",
              "    </tr>\n",
              "    <tr>\n",
              "      <th>7690</th>\n",
              "      <td>KERALA</td>\n",
              "      <td>WAYANAD</td>\n",
              "      <td>DEC</td>\n",
              "      <td>25.8</td>\n",
              "    </tr>\n",
              "    <tr>\n",
              "      <th>7691</th>\n",
              "      <td>LAKSHADWEEP</td>\n",
              "      <td>LAKSHADWEEP</td>\n",
              "      <td>DEC</td>\n",
              "      <td>58.8</td>\n",
              "    </tr>\n",
              "  </tbody>\n",
              "</table>\n",
              "<p>7692 rows × 4 columns</p>\n",
              "</div>"
            ],
            "text/plain": [
              "                    STATE_UT_NAME        DISTRICT variable  value\n",
              "0     ANDAMAN And NICOBAR ISLANDS         NICOBAR      JAN  107.3\n",
              "1     ANDAMAN And NICOBAR ISLANDS   SOUTH ANDAMAN      JAN   43.7\n",
              "2     ANDAMAN And NICOBAR ISLANDS   N & M ANDAMAN      JAN   32.7\n",
              "3               ARUNACHAL PRADESH           LOHIT      JAN   42.2\n",
              "4               ARUNACHAL PRADESH      EAST SIANG      JAN   33.3\n",
              "...                           ...             ...      ...    ...\n",
              "7687                       KERALA          IDUKKI      DEC   48.1\n",
              "7688                       KERALA        KASARGOD      DEC   18.4\n",
              "7689                       KERALA  PATHANAMTHITTA      DEC   51.3\n",
              "7690                       KERALA         WAYANAD      DEC   25.8\n",
              "7691                  LAKSHADWEEP     LAKSHADWEEP      DEC   58.8\n",
              "\n",
              "[7692 rows x 4 columns]"
            ]
          },
          "metadata": {},
          "execution_count": 21
        }
      ]
    },
    {
      "cell_type": "code",
      "metadata": {
        "id": "tP0GH1i7dmqU"
      },
      "source": [
        "df2 = df2.rename(columns={'variable': 'month'})"
      ],
      "execution_count": null,
      "outputs": []
    },
    {
      "cell_type": "code",
      "metadata": {
        "colab": {
          "base_uri": "https://localhost:8080/",
          "height": 423
        },
        "id": "YAUbxVHDdxJB",
        "outputId": "41d64a87-d5d6-4b8e-a81d-edd1cd9db087"
      },
      "source": [
        "df2"
      ],
      "execution_count": null,
      "outputs": [
        {
          "output_type": "execute_result",
          "data": {
            "text/html": [
              "<div>\n",
              "<style scoped>\n",
              "    .dataframe tbody tr th:only-of-type {\n",
              "        vertical-align: middle;\n",
              "    }\n",
              "\n",
              "    .dataframe tbody tr th {\n",
              "        vertical-align: top;\n",
              "    }\n",
              "\n",
              "    .dataframe thead th {\n",
              "        text-align: right;\n",
              "    }\n",
              "</style>\n",
              "<table border=\"1\" class=\"dataframe\">\n",
              "  <thead>\n",
              "    <tr style=\"text-align: right;\">\n",
              "      <th></th>\n",
              "      <th>STATE_UT_NAME</th>\n",
              "      <th>DISTRICT</th>\n",
              "      <th>month</th>\n",
              "      <th>value</th>\n",
              "    </tr>\n",
              "  </thead>\n",
              "  <tbody>\n",
              "    <tr>\n",
              "      <th>0</th>\n",
              "      <td>ANDAMAN And NICOBAR ISLANDS</td>\n",
              "      <td>NICOBAR</td>\n",
              "      <td>JAN</td>\n",
              "      <td>107.3</td>\n",
              "    </tr>\n",
              "    <tr>\n",
              "      <th>1</th>\n",
              "      <td>ANDAMAN And NICOBAR ISLANDS</td>\n",
              "      <td>SOUTH ANDAMAN</td>\n",
              "      <td>JAN</td>\n",
              "      <td>43.7</td>\n",
              "    </tr>\n",
              "    <tr>\n",
              "      <th>2</th>\n",
              "      <td>ANDAMAN And NICOBAR ISLANDS</td>\n",
              "      <td>N &amp; M ANDAMAN</td>\n",
              "      <td>JAN</td>\n",
              "      <td>32.7</td>\n",
              "    </tr>\n",
              "    <tr>\n",
              "      <th>3</th>\n",
              "      <td>ARUNACHAL PRADESH</td>\n",
              "      <td>LOHIT</td>\n",
              "      <td>JAN</td>\n",
              "      <td>42.2</td>\n",
              "    </tr>\n",
              "    <tr>\n",
              "      <th>4</th>\n",
              "      <td>ARUNACHAL PRADESH</td>\n",
              "      <td>EAST SIANG</td>\n",
              "      <td>JAN</td>\n",
              "      <td>33.3</td>\n",
              "    </tr>\n",
              "    <tr>\n",
              "      <th>...</th>\n",
              "      <td>...</td>\n",
              "      <td>...</td>\n",
              "      <td>...</td>\n",
              "      <td>...</td>\n",
              "    </tr>\n",
              "    <tr>\n",
              "      <th>7687</th>\n",
              "      <td>KERALA</td>\n",
              "      <td>IDUKKI</td>\n",
              "      <td>DEC</td>\n",
              "      <td>48.1</td>\n",
              "    </tr>\n",
              "    <tr>\n",
              "      <th>7688</th>\n",
              "      <td>KERALA</td>\n",
              "      <td>KASARGOD</td>\n",
              "      <td>DEC</td>\n",
              "      <td>18.4</td>\n",
              "    </tr>\n",
              "    <tr>\n",
              "      <th>7689</th>\n",
              "      <td>KERALA</td>\n",
              "      <td>PATHANAMTHITTA</td>\n",
              "      <td>DEC</td>\n",
              "      <td>51.3</td>\n",
              "    </tr>\n",
              "    <tr>\n",
              "      <th>7690</th>\n",
              "      <td>KERALA</td>\n",
              "      <td>WAYANAD</td>\n",
              "      <td>DEC</td>\n",
              "      <td>25.8</td>\n",
              "    </tr>\n",
              "    <tr>\n",
              "      <th>7691</th>\n",
              "      <td>LAKSHADWEEP</td>\n",
              "      <td>LAKSHADWEEP</td>\n",
              "      <td>DEC</td>\n",
              "      <td>58.8</td>\n",
              "    </tr>\n",
              "  </tbody>\n",
              "</table>\n",
              "<p>7692 rows × 4 columns</p>\n",
              "</div>"
            ],
            "text/plain": [
              "                    STATE_UT_NAME        DISTRICT month  value\n",
              "0     ANDAMAN And NICOBAR ISLANDS         NICOBAR   JAN  107.3\n",
              "1     ANDAMAN And NICOBAR ISLANDS   SOUTH ANDAMAN   JAN   43.7\n",
              "2     ANDAMAN And NICOBAR ISLANDS   N & M ANDAMAN   JAN   32.7\n",
              "3               ARUNACHAL PRADESH           LOHIT   JAN   42.2\n",
              "4               ARUNACHAL PRADESH      EAST SIANG   JAN   33.3\n",
              "...                           ...             ...   ...    ...\n",
              "7687                       KERALA          IDUKKI   DEC   48.1\n",
              "7688                       KERALA        KASARGOD   DEC   18.4\n",
              "7689                       KERALA  PATHANAMTHITTA   DEC   51.3\n",
              "7690                       KERALA         WAYANAD   DEC   25.8\n",
              "7691                  LAKSHADWEEP     LAKSHADWEEP   DEC   58.8\n",
              "\n",
              "[7692 rows x 4 columns]"
            ]
          },
          "metadata": {},
          "execution_count": 23
        }
      ]
    },
    {
      "cell_type": "code",
      "metadata": {
        "id": "i5vY7dLjcv9b"
      },
      "source": [
        "d={'JAN':1,'FEB':2,'MAR' :3,'APR':4,'MAY':5,'JUN':6,'JUL':7,'AUG':8,'SEP':9,\n",
        "   'OCT':10,'NOV':11,'DEC':12}\n",
        "df2['month']=df2['month'].map(d)"
      ],
      "execution_count": null,
      "outputs": []
    },
    {
      "cell_type": "code",
      "metadata": {
        "id": "tzno3y5-d5kQ",
        "colab": {
          "base_uri": "https://localhost:8080/",
          "height": 423
        },
        "outputId": "10240bb9-1b15-4a97-dd34-abb57eba2623"
      },
      "source": [
        "df2"
      ],
      "execution_count": null,
      "outputs": [
        {
          "output_type": "execute_result",
          "data": {
            "text/html": [
              "<div>\n",
              "<style scoped>\n",
              "    .dataframe tbody tr th:only-of-type {\n",
              "        vertical-align: middle;\n",
              "    }\n",
              "\n",
              "    .dataframe tbody tr th {\n",
              "        vertical-align: top;\n",
              "    }\n",
              "\n",
              "    .dataframe thead th {\n",
              "        text-align: right;\n",
              "    }\n",
              "</style>\n",
              "<table border=\"1\" class=\"dataframe\">\n",
              "  <thead>\n",
              "    <tr style=\"text-align: right;\">\n",
              "      <th></th>\n",
              "      <th>STATE_UT_NAME</th>\n",
              "      <th>DISTRICT</th>\n",
              "      <th>month</th>\n",
              "      <th>value</th>\n",
              "    </tr>\n",
              "  </thead>\n",
              "  <tbody>\n",
              "    <tr>\n",
              "      <th>0</th>\n",
              "      <td>ANDAMAN And NICOBAR ISLANDS</td>\n",
              "      <td>NICOBAR</td>\n",
              "      <td>1</td>\n",
              "      <td>107.3</td>\n",
              "    </tr>\n",
              "    <tr>\n",
              "      <th>1</th>\n",
              "      <td>ANDAMAN And NICOBAR ISLANDS</td>\n",
              "      <td>SOUTH ANDAMAN</td>\n",
              "      <td>1</td>\n",
              "      <td>43.7</td>\n",
              "    </tr>\n",
              "    <tr>\n",
              "      <th>2</th>\n",
              "      <td>ANDAMAN And NICOBAR ISLANDS</td>\n",
              "      <td>N &amp; M ANDAMAN</td>\n",
              "      <td>1</td>\n",
              "      <td>32.7</td>\n",
              "    </tr>\n",
              "    <tr>\n",
              "      <th>3</th>\n",
              "      <td>ARUNACHAL PRADESH</td>\n",
              "      <td>LOHIT</td>\n",
              "      <td>1</td>\n",
              "      <td>42.2</td>\n",
              "    </tr>\n",
              "    <tr>\n",
              "      <th>4</th>\n",
              "      <td>ARUNACHAL PRADESH</td>\n",
              "      <td>EAST SIANG</td>\n",
              "      <td>1</td>\n",
              "      <td>33.3</td>\n",
              "    </tr>\n",
              "    <tr>\n",
              "      <th>...</th>\n",
              "      <td>...</td>\n",
              "      <td>...</td>\n",
              "      <td>...</td>\n",
              "      <td>...</td>\n",
              "    </tr>\n",
              "    <tr>\n",
              "      <th>7687</th>\n",
              "      <td>KERALA</td>\n",
              "      <td>IDUKKI</td>\n",
              "      <td>12</td>\n",
              "      <td>48.1</td>\n",
              "    </tr>\n",
              "    <tr>\n",
              "      <th>7688</th>\n",
              "      <td>KERALA</td>\n",
              "      <td>KASARGOD</td>\n",
              "      <td>12</td>\n",
              "      <td>18.4</td>\n",
              "    </tr>\n",
              "    <tr>\n",
              "      <th>7689</th>\n",
              "      <td>KERALA</td>\n",
              "      <td>PATHANAMTHITTA</td>\n",
              "      <td>12</td>\n",
              "      <td>51.3</td>\n",
              "    </tr>\n",
              "    <tr>\n",
              "      <th>7690</th>\n",
              "      <td>KERALA</td>\n",
              "      <td>WAYANAD</td>\n",
              "      <td>12</td>\n",
              "      <td>25.8</td>\n",
              "    </tr>\n",
              "    <tr>\n",
              "      <th>7691</th>\n",
              "      <td>LAKSHADWEEP</td>\n",
              "      <td>LAKSHADWEEP</td>\n",
              "      <td>12</td>\n",
              "      <td>58.8</td>\n",
              "    </tr>\n",
              "  </tbody>\n",
              "</table>\n",
              "<p>7692 rows × 4 columns</p>\n",
              "</div>"
            ],
            "text/plain": [
              "                    STATE_UT_NAME        DISTRICT  month  value\n",
              "0     ANDAMAN And NICOBAR ISLANDS         NICOBAR      1  107.3\n",
              "1     ANDAMAN And NICOBAR ISLANDS   SOUTH ANDAMAN      1   43.7\n",
              "2     ANDAMAN And NICOBAR ISLANDS   N & M ANDAMAN      1   32.7\n",
              "3               ARUNACHAL PRADESH           LOHIT      1   42.2\n",
              "4               ARUNACHAL PRADESH      EAST SIANG      1   33.3\n",
              "...                           ...             ...    ...    ...\n",
              "7687                       KERALA          IDUKKI     12   48.1\n",
              "7688                       KERALA        KASARGOD     12   18.4\n",
              "7689                       KERALA  PATHANAMTHITTA     12   51.3\n",
              "7690                       KERALA         WAYANAD     12   25.8\n",
              "7691                  LAKSHADWEEP     LAKSHADWEEP     12   58.8\n",
              "\n",
              "[7692 rows x 4 columns]"
            ]
          },
          "metadata": {},
          "execution_count": 25
        }
      ]
    },
    {
      "cell_type": "code",
      "metadata": {
        "id": "A4PmYEb-bahv"
      },
      "source": [
        "df2.to_csv('file1.csv')"
      ],
      "execution_count": null,
      "outputs": []
    },
    {
      "cell_type": "code",
      "metadata": {
        "id": "1LcxhHXvpOYh"
      },
      "source": [
        "# y = pd.get_dummies(df2, columns=['STATE_UT_NAME'], prefix='state')\n",
        "# y = pd.get_dummies(y, columns=['DISTRICT'], prefix='district')\n",
        "# y = pd.get_dummies(y, columns=['month'], prefix='month')\n",
        "# y"
      ],
      "execution_count": null,
      "outputs": []
    },
    {
      "cell_type": "code",
      "metadata": {
        "id": "fKPy6j4qpVeY"
      },
      "source": [
        "df2['STATE_UT_NAME']=df2['STATE_UT_NAME'].map(dict1)\n",
        "df2['DISTRICT']=df2['DISTRICT'].map(dict2)"
      ],
      "execution_count": null,
      "outputs": []
    },
    {
      "cell_type": "code",
      "metadata": {
        "id": "8lLUHVL6quAT",
        "colab": {
          "base_uri": "https://localhost:8080/",
          "height": 423
        },
        "outputId": "ee65fb92-58bc-44a3-af70-ec89463f86da"
      },
      "source": [
        "df2"
      ],
      "execution_count": null,
      "outputs": [
        {
          "output_type": "execute_result",
          "data": {
            "text/html": [
              "<div>\n",
              "<style scoped>\n",
              "    .dataframe tbody tr th:only-of-type {\n",
              "        vertical-align: middle;\n",
              "    }\n",
              "\n",
              "    .dataframe tbody tr th {\n",
              "        vertical-align: top;\n",
              "    }\n",
              "\n",
              "    .dataframe thead th {\n",
              "        text-align: right;\n",
              "    }\n",
              "</style>\n",
              "<table border=\"1\" class=\"dataframe\">\n",
              "  <thead>\n",
              "    <tr style=\"text-align: right;\">\n",
              "      <th></th>\n",
              "      <th>STATE_UT_NAME</th>\n",
              "      <th>DISTRICT</th>\n",
              "      <th>month</th>\n",
              "      <th>value</th>\n",
              "    </tr>\n",
              "  </thead>\n",
              "  <tbody>\n",
              "    <tr>\n",
              "      <th>0</th>\n",
              "      <td>0</td>\n",
              "      <td>423</td>\n",
              "      <td>1</td>\n",
              "      <td>107.3</td>\n",
              "    </tr>\n",
              "    <tr>\n",
              "      <th>1</th>\n",
              "      <td>0</td>\n",
              "      <td>553</td>\n",
              "      <td>1</td>\n",
              "      <td>43.7</td>\n",
              "    </tr>\n",
              "    <tr>\n",
              "      <th>2</th>\n",
              "      <td>0</td>\n",
              "      <td>396</td>\n",
              "      <td>1</td>\n",
              "      <td>32.7</td>\n",
              "    </tr>\n",
              "    <tr>\n",
              "      <th>3</th>\n",
              "      <td>2</td>\n",
              "      <td>347</td>\n",
              "      <td>1</td>\n",
              "      <td>42.2</td>\n",
              "    </tr>\n",
              "    <tr>\n",
              "      <th>4</th>\n",
              "      <td>2</td>\n",
              "      <td>173</td>\n",
              "      <td>1</td>\n",
              "      <td>33.3</td>\n",
              "    </tr>\n",
              "    <tr>\n",
              "      <th>...</th>\n",
              "      <td>...</td>\n",
              "      <td>...</td>\n",
              "      <td>...</td>\n",
              "      <td>...</td>\n",
              "    </tr>\n",
              "    <tr>\n",
              "      <th>7687</th>\n",
              "      <td>17</td>\n",
              "      <td>233</td>\n",
              "      <td>12</td>\n",
              "      <td>48.1</td>\n",
              "    </tr>\n",
              "    <tr>\n",
              "      <th>7688</th>\n",
              "      <td>17</td>\n",
              "      <td>290</td>\n",
              "      <td>12</td>\n",
              "      <td>18.4</td>\n",
              "    </tr>\n",
              "    <tr>\n",
              "      <th>7689</th>\n",
              "      <td>17</td>\n",
              "      <td>447</td>\n",
              "      <td>12</td>\n",
              "      <td>51.3</td>\n",
              "    </tr>\n",
              "    <tr>\n",
              "      <th>7690</th>\n",
              "      <td>17</td>\n",
              "      <td>620</td>\n",
              "      <td>12</td>\n",
              "      <td>25.8</td>\n",
              "    </tr>\n",
              "    <tr>\n",
              "      <th>7691</th>\n",
              "      <td>18</td>\n",
              "      <td>341</td>\n",
              "      <td>12</td>\n",
              "      <td>58.8</td>\n",
              "    </tr>\n",
              "  </tbody>\n",
              "</table>\n",
              "<p>7692 rows × 4 columns</p>\n",
              "</div>"
            ],
            "text/plain": [
              "      STATE_UT_NAME  DISTRICT  month  value\n",
              "0                 0       423      1  107.3\n",
              "1                 0       553      1   43.7\n",
              "2                 0       396      1   32.7\n",
              "3                 2       347      1   42.2\n",
              "4                 2       173      1   33.3\n",
              "...             ...       ...    ...    ...\n",
              "7687             17       233     12   48.1\n",
              "7688             17       290     12   18.4\n",
              "7689             17       447     12   51.3\n",
              "7690             17       620     12   25.8\n",
              "7691             18       341     12   58.8\n",
              "\n",
              "[7692 rows x 4 columns]"
            ]
          },
          "metadata": {},
          "execution_count": 49
        }
      ]
    },
    {
      "cell_type": "code",
      "metadata": {
        "colab": {
          "base_uri": "https://localhost:8080/"
        },
        "id": "XpXJgHLIrSuK",
        "outputId": "52efde45-2997-4bc0-d85c-384b48f989c5"
      },
      "source": [
        "df2.dtypes"
      ],
      "execution_count": null,
      "outputs": [
        {
          "output_type": "execute_result",
          "data": {
            "text/plain": [
              "STATE_UT_NAME      int64\n",
              "DISTRICT           int64\n",
              "month              int64\n",
              "value            float64\n",
              "dtype: object"
            ]
          },
          "metadata": {},
          "execution_count": 50
        }
      ]
    },
    {
      "cell_type": "code",
      "metadata": {
        "id": "ayLzKddhpOzC"
      },
      "source": [
        ""
      ],
      "execution_count": null,
      "outputs": []
    },
    {
      "cell_type": "code",
      "metadata": {
        "colab": {
          "base_uri": "https://localhost:8080/",
          "height": 423
        },
        "id": "4jt8XA8tqaSC",
        "outputId": "ea4d164e-e609-40db-c504-830e8c8fb09b"
      },
      "source": [
        "df2 = df2.sort_values(by=['DISTRICT', 'month'])\n",
        "df2 = df2.sample(frac=1)\n",
        "df2"
      ],
      "execution_count": null,
      "outputs": [
        {
          "output_type": "execute_result",
          "data": {
            "text/html": [
              "<div>\n",
              "<style scoped>\n",
              "    .dataframe tbody tr th:only-of-type {\n",
              "        vertical-align: middle;\n",
              "    }\n",
              "\n",
              "    .dataframe tbody tr th {\n",
              "        vertical-align: top;\n",
              "    }\n",
              "\n",
              "    .dataframe thead th {\n",
              "        text-align: right;\n",
              "    }\n",
              "</style>\n",
              "<table border=\"1\" class=\"dataframe\">\n",
              "  <thead>\n",
              "    <tr style=\"text-align: right;\">\n",
              "      <th></th>\n",
              "      <th>STATE_UT_NAME</th>\n",
              "      <th>DISTRICT</th>\n",
              "      <th>month</th>\n",
              "      <th>value</th>\n",
              "    </tr>\n",
              "  </thead>\n",
              "  <tbody>\n",
              "    <tr>\n",
              "      <th>7499</th>\n",
              "      <td>MADHYA PRADESH</td>\n",
              "      <td>DINDORI</td>\n",
              "      <td>12</td>\n",
              "      <td>16.6</td>\n",
              "    </tr>\n",
              "    <tr>\n",
              "      <th>5554</th>\n",
              "      <td>MADHYA PRADESH</td>\n",
              "      <td>HARDA</td>\n",
              "      <td>9</td>\n",
              "      <td>211.6</td>\n",
              "    </tr>\n",
              "    <tr>\n",
              "      <th>981</th>\n",
              "      <td>HIMACHAL</td>\n",
              "      <td>KULLU</td>\n",
              "      <td>2</td>\n",
              "      <td>97.0</td>\n",
              "    </tr>\n",
              "    <tr>\n",
              "      <th>2378</th>\n",
              "      <td>GUJARAT</td>\n",
              "      <td>BARODA</td>\n",
              "      <td>4</td>\n",
              "      <td>0.8</td>\n",
              "    </tr>\n",
              "    <tr>\n",
              "      <th>2538</th>\n",
              "      <td>KARNATAKA</td>\n",
              "      <td>HASSAN</td>\n",
              "      <td>4</td>\n",
              "      <td>55.1</td>\n",
              "    </tr>\n",
              "    <tr>\n",
              "      <th>...</th>\n",
              "      <td>...</td>\n",
              "      <td>...</td>\n",
              "      <td>...</td>\n",
              "      <td>...</td>\n",
              "    </tr>\n",
              "    <tr>\n",
              "      <th>5025</th>\n",
              "      <td>ANDHRA PRADESH</td>\n",
              "      <td>WEST GODAVARI</td>\n",
              "      <td>8</td>\n",
              "      <td>227.8</td>\n",
              "    </tr>\n",
              "    <tr>\n",
              "      <th>2868</th>\n",
              "      <td>HARYANA</td>\n",
              "      <td>MEWAT</td>\n",
              "      <td>5</td>\n",
              "      <td>9.8</td>\n",
              "    </tr>\n",
              "    <tr>\n",
              "      <th>2439</th>\n",
              "      <td>MAHARASHTRA</td>\n",
              "      <td>GADCHIROLI</td>\n",
              "      <td>4</td>\n",
              "      <td>12.2</td>\n",
              "    </tr>\n",
              "    <tr>\n",
              "      <th>7463</th>\n",
              "      <td>MADHYA PRADESH</td>\n",
              "      <td>INDORE</td>\n",
              "      <td>12</td>\n",
              "      <td>5.7</td>\n",
              "    </tr>\n",
              "    <tr>\n",
              "      <th>2157</th>\n",
              "      <td>UTTAR PRADESH</td>\n",
              "      <td>BALRAMPUR</td>\n",
              "      <td>4</td>\n",
              "      <td>9.3</td>\n",
              "    </tr>\n",
              "  </tbody>\n",
              "</table>\n",
              "<p>7692 rows × 4 columns</p>\n",
              "</div>"
            ],
            "text/plain": [
              "       STATE_UT_NAME       DISTRICT  month  value\n",
              "7499  MADHYA PRADESH        DINDORI     12   16.6\n",
              "5554  MADHYA PRADESH          HARDA      9  211.6\n",
              "981         HIMACHAL          KULLU      2   97.0\n",
              "2378         GUJARAT         BARODA      4    0.8\n",
              "2538       KARNATAKA         HASSAN      4   55.1\n",
              "...              ...            ...    ...    ...\n",
              "5025  ANDHRA PRADESH  WEST GODAVARI      8  227.8\n",
              "2868         HARYANA          MEWAT      5    9.8\n",
              "2439     MAHARASHTRA     GADCHIROLI      4   12.2\n",
              "7463  MADHYA PRADESH         INDORE     12    5.7\n",
              "2157   UTTAR PRADESH      BALRAMPUR      4    9.3\n",
              "\n",
              "[7692 rows x 4 columns]"
            ]
          },
          "metadata": {},
          "execution_count": 113
        }
      ]
    },
    {
      "cell_type": "code",
      "metadata": {
        "id": "-7YOta8ZqHcU"
      },
      "source": [
        ""
      ],
      "execution_count": null,
      "outputs": []
    },
    {
      "cell_type": "code",
      "metadata": {
        "id": "MIzGbHFmpOfD"
      },
      "source": [
        ""
      ],
      "execution_count": null,
      "outputs": []
    },
    {
      "cell_type": "code",
      "metadata": {
        "id": "cc_6lGL3pOR5"
      },
      "source": [
        ""
      ],
      "execution_count": null,
      "outputs": []
    }
  ]
}